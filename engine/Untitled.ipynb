{
 "cells": [
  {
   "cell_type": "code",
   "execution_count": 2,
   "metadata": {},
   "outputs": [],
   "source": [
    "import requests\n",
    "from bs4 import BeautifulSoup"
   ]
  },
  {
   "cell_type": "code",
   "execution_count": 3,
   "metadata": {},
   "outputs": [],
   "source": [
    "req = requests.get('https://news.naver.com/')"
   ]
  },
  {
   "cell_type": "code",
   "execution_count": 8,
   "metadata": {},
   "outputs": [],
   "source": [
    "soup = BeautifulSoup(req.content, 'html.parser')"
   ]
  },
  {
   "cell_type": "code",
   "execution_count": 35,
   "metadata": {},
   "outputs": [],
   "source": [
    "headline_ls = [i.text.strip().split('\\n')[0] for i in soup.select('#today_main_news > div.hdline_news > ul > li')]\n",
    "headline_ls = [head for head in headline_ls if head]"
   ]
  },
  {
   "cell_type": "code",
   "execution_count": 36,
   "metadata": {},
   "outputs": [
    {
     "data": {
      "text/plain": [
       "['안전하다던 탱크 두달만에 `펑`…수소경제도 `철렁`',\n",
       " '‘기밀유출’ 강효상 사면초가…보수진영도 “출당시켜라” ',\n",
       " '청해부대 귀항 환영행사 중 사고… 군인 5명 사상',\n",
       " '하태경, 손학규에 90도 사과…바른미래 갈등 불씨는 여전(종합)',\n",
       " \"'브렉시트 벽'에 가로막힌 英 메이 총리 결국 사퇴키로(종합)\"]"
      ]
     },
     "execution_count": 36,
     "metadata": {},
     "output_type": "execute_result"
    }
   ],
   "source": [
    "headline_ls"
   ]
  },
  {
   "cell_type": "code",
   "execution_count": 1,
   "metadata": {},
   "outputs": [],
   "source": [
    "import requests\n",
    "\n",
    "class WeatherForecast(object):\n",
    "    def __init__(self):\n",
    "        with open('data/skt_apikey.txt', 'r') as f:\n",
    "            self.appKey = f.readline().replace('\\n','')\n",
    "        print(self.appKey)\n",
    "\n",
    "        self.city = '서울'\n",
    "        self.county = '강남구'\n",
    "        self.village = '삼성동'\n",
    "\n",
    "        # 현재 날씨(시간별)\n",
    "        self.url_hourly = \"http://apis.skplanetx.com/weather/current/hourly\"\n",
    "\n",
    "        self.headers = {\n",
    "            'Content-Type': 'application/json; charset=utf-8',\n",
    "            'appKey': self.appKey\n",
    "        }\n",
    "\n",
    "        self.params = {\n",
    "            \"version\": \"1\",\n",
    "            \"city\": self.city,\n",
    "            \"county\": self.county,\n",
    "            \"village\": self.village\n",
    "        }\n",
    "\n",
    "    #현재 날씨(시간별)\n",
    "    def hourly(self, weather):\n",
    "        # 기온 정보\n",
    "        # 오늘의 최고기온\n",
    "        #temperature_tmax = weather['temperature']['tmax']\n",
    "        # 1시간 현재기온\n",
    "        self.temperature_tc = '%.01f°C'%weather['temperature']['tc']\n",
    "        # 오늘의 최저기온\n",
    "        #temperature_tmin = weather['temperature']['tmin']\n",
    "\n",
    "        # 하늘 상태 정보\n",
    "        # 하늘상태코드명\n",
    "        # - SKY_A01: 맑음\n",
    "        # - SKY_A02: 구름조금\n",
    "        # - SKY_A03: 구름많음\n",
    "        # - SKY_A04: 구름많고 비\n",
    "        # - SKY_A05: 구름많고 눈\n",
    "        # - SKY_A06: 구름많고 비 또는 눈\n",
    "        # - SKY_A07: 흐림\n",
    "        # - SKY_A08: 흐리고 비\n",
    "        # - SKY_A09: 흐리고 눈\n",
    "        # - SKY_A10:  흐리고 비 또는 눈\n",
    "        # - SKY_A11: 흐리고 낙뢰\n",
    "        # - SKY_A12: 뇌우, 비\n",
    "        # - SKY_A13: 뇌우, 눈\n",
    "        # - SKY_A14: 뇌우, 비 또는 눈\n",
    "        self.sky_code = weather['sky']['code']\n",
    "        self.sky_name = weather['sky']['name']\n",
    "        return self.temperature_tc, self.sky_name\n",
    "\n",
    "    def requestCurrentWeather(self):\n",
    "        print(self.url_hourly)\n",
    "        print(self.params)\n",
    "        print(self.headers)\n",
    "\n",
    "        response = requests.get(self.url_hourly, params=self.params, headers=self.headers)\n",
    "        print(response)\n",
    "        if response.status_code == 200:\n",
    "            response_body = response.json()\n",
    "\n",
    "            #날씨 정보\n",
    "            try:\n",
    "                weather_data = response_body['weather']['hourly'][0]\n",
    "                temp, sky = self.hourly(weather_data)\n",
    "                return temp, sky\n",
    "            except:\n",
    "                pass\n",
    "        else:\n",
    "            pass\n",
    "\n"
   ]
  },
  {
   "cell_type": "code",
   "execution_count": 2,
   "metadata": {},
   "outputs": [
    {
     "name": "stdout",
     "output_type": "stream",
     "text": [
      "9ce196c0-d111-4534-93c0-a0332f2396e7\n"
     ]
    }
   ],
   "source": [
    "wea = WeatherForecast()"
   ]
  },
  {
   "cell_type": "code",
   "execution_count": 4,
   "metadata": {},
   "outputs": [
    {
     "name": "stdout",
     "output_type": "stream",
     "text": [
      "http://apis.skplanetx.com/weather/current/hourly\n",
      "{'version': '1', 'city': '서울', 'county': '강남구', 'village': '삼성동'}\n",
      "{'Content-Type': 'application/json; charset=utf-8', 'appKey': '9ce196c0-d111-4534-93c0-a0332f2396e7'}\n",
      "<Response [410]>\n"
     ]
    }
   ],
   "source": [
    "res = wea.requestCurrentWeather()"
   ]
  },
  {
   "cell_type": "code",
   "execution_count": null,
   "metadata": {},
   "outputs": [],
   "source": []
  }
 ],
 "metadata": {
  "kernelspec": {
   "display_name": "soongsiri",
   "language": "python",
   "name": "soongsiri"
  },
  "language_info": {
   "codemirror_mode": {
    "name": "ipython",
    "version": 3
   },
   "file_extension": ".py",
   "mimetype": "text/x-python",
   "name": "python",
   "nbconvert_exporter": "python",
   "pygments_lexer": "ipython3",
   "version": "3.6.8"
  }
 },
 "nbformat": 4,
 "nbformat_minor": 2
}
